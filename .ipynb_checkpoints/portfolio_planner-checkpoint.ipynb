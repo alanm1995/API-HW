{
 "cells": [
  {
   "cell_type": "code",
   "execution_count": 4,
   "metadata": {},
   "outputs": [],
   "source": [
    "import numpy as np\n",
    "import pandas as pd\n",
    "from datetime import datetime, timedelta\n",
    "import matplotlib.pyplot as plt\n",
    "%matplotlib inline\n",
    "import os\n",
    "import alpaca_trade_api as tradeapi"
   ]
  },
  {
   "cell_type": "code",
   "execution_count": 5,
   "metadata": {},
   "outputs": [],
   "source": [
    "np.random.seed(42)"
   ]
  },
  {
   "cell_type": "markdown",
   "metadata": {},
   "source": [
    "# Portfolio Planner\n",
    "\n",
    "In this activity, you will use the iexfinance api to grab historical data for a 60/40 portfolio using `SPY` to represent the stock portion and `AGG` to represent the bonds."
   ]
  },
  {
   "cell_type": "code",
   "execution_count": 6,
   "metadata": {},
   "outputs": [],
   "source": [
    "from dotenv import load_dotenv\n",
    "load_dotenv()\n",
    "alpaca_api_key = os.getenv(\"ALPACA_API_KEY\")\n",
    "alpaca_secret_key = os.getenv(\"ALPACA_SECRET_KEY\")\n",
    "\n",
    "api = tradeapi.REST(alpaca_api_key, alpaca_secret_key, api_version='v2')"
   ]
  },
  {
   "cell_type": "markdown",
   "metadata": {},
   "source": [
    "# Data Collection\n",
    "\n",
    "In this step, you will need to use the IEX api to fetch closing prices for the `SPY` and `AGG` tickers. Save the results as a pandas DataFrame"
   ]
  },
  {
   "cell_type": "code",
   "execution_count": 7,
   "metadata": {},
   "outputs": [
    {
     "data": {
      "text/html": [
       "<div>\n",
       "<style scoped>\n",
       "    .dataframe tbody tr th:only-of-type {\n",
       "        vertical-align: middle;\n",
       "    }\n",
       "\n",
       "    .dataframe tbody tr th {\n",
       "        vertical-align: top;\n",
       "    }\n",
       "\n",
       "    .dataframe thead tr th {\n",
       "        text-align: left;\n",
       "    }\n",
       "\n",
       "    .dataframe thead tr:last-of-type th {\n",
       "        text-align: right;\n",
       "    }\n",
       "</style>\n",
       "<table border=\"1\" class=\"dataframe\">\n",
       "  <thead>\n",
       "    <tr>\n",
       "      <th></th>\n",
       "      <th colspan=\"5\" halign=\"left\">AGG</th>\n",
       "      <th colspan=\"5\" halign=\"left\">SPY</th>\n",
       "    </tr>\n",
       "    <tr>\n",
       "      <th></th>\n",
       "      <th>open</th>\n",
       "      <th>high</th>\n",
       "      <th>low</th>\n",
       "      <th>close</th>\n",
       "      <th>volume</th>\n",
       "      <th>open</th>\n",
       "      <th>high</th>\n",
       "      <th>low</th>\n",
       "      <th>close</th>\n",
       "      <th>volume</th>\n",
       "    </tr>\n",
       "    <tr>\n",
       "      <th>time</th>\n",
       "      <th></th>\n",
       "      <th></th>\n",
       "      <th></th>\n",
       "      <th></th>\n",
       "      <th></th>\n",
       "      <th></th>\n",
       "      <th></th>\n",
       "      <th></th>\n",
       "      <th></th>\n",
       "      <th></th>\n",
       "    </tr>\n",
       "  </thead>\n",
       "  <tbody>\n",
       "    <tr>\n",
       "      <td>2019-11-15 00:00:00-05:00</td>\n",
       "      <td>112.46</td>\n",
       "      <td>112.4600</td>\n",
       "      <td>112.380</td>\n",
       "      <td>112.4100</td>\n",
       "      <td>3961721</td>\n",
       "      <td>311.02</td>\n",
       "      <td>311.83</td>\n",
       "      <td>310.26</td>\n",
       "      <td>311.82</td>\n",
       "      <td>42549412</td>\n",
       "    </tr>\n",
       "    <tr>\n",
       "      <td>2019-11-18 00:00:00-05:00</td>\n",
       "      <td>112.56</td>\n",
       "      <td>112.6460</td>\n",
       "      <td>112.520</td>\n",
       "      <td>112.5950</td>\n",
       "      <td>5550696</td>\n",
       "      <td>311.53</td>\n",
       "      <td>312.28</td>\n",
       "      <td>311.03</td>\n",
       "      <td>312.00</td>\n",
       "      <td>40559312</td>\n",
       "    </tr>\n",
       "    <tr>\n",
       "      <td>2019-11-19 00:00:00-05:00</td>\n",
       "      <td>112.63</td>\n",
       "      <td>112.7600</td>\n",
       "      <td>112.600</td>\n",
       "      <td>112.7100</td>\n",
       "      <td>2181200</td>\n",
       "      <td>312.68</td>\n",
       "      <td>312.69</td>\n",
       "      <td>311.22</td>\n",
       "      <td>311.91</td>\n",
       "      <td>56892505</td>\n",
       "    </tr>\n",
       "    <tr>\n",
       "      <td>2019-11-20 00:00:00-05:00</td>\n",
       "      <td>112.83</td>\n",
       "      <td>112.9800</td>\n",
       "      <td>112.805</td>\n",
       "      <td>112.9700</td>\n",
       "      <td>3218845</td>\n",
       "      <td>311.28</td>\n",
       "      <td>311.85</td>\n",
       "      <td>309.06</td>\n",
       "      <td>310.79</td>\n",
       "      <td>62833225</td>\n",
       "    </tr>\n",
       "    <tr>\n",
       "      <td>2019-11-21 00:00:00-05:00</td>\n",
       "      <td>112.80</td>\n",
       "      <td>112.8859</td>\n",
       "      <td>112.720</td>\n",
       "      <td>112.8131</td>\n",
       "      <td>3971410</td>\n",
       "      <td>310.89</td>\n",
       "      <td>311.01</td>\n",
       "      <td>309.39</td>\n",
       "      <td>310.29</td>\n",
       "      <td>42497606</td>\n",
       "    </tr>\n",
       "  </tbody>\n",
       "</table>\n",
       "</div>"
      ],
      "text/plain": [
       "                              AGG                                        \\\n",
       "                             open      high      low     close   volume   \n",
       "time                                                                      \n",
       "2019-11-15 00:00:00-05:00  112.46  112.4600  112.380  112.4100  3961721   \n",
       "2019-11-18 00:00:00-05:00  112.56  112.6460  112.520  112.5950  5550696   \n",
       "2019-11-19 00:00:00-05:00  112.63  112.7600  112.600  112.7100  2181200   \n",
       "2019-11-20 00:00:00-05:00  112.83  112.9800  112.805  112.9700  3218845   \n",
       "2019-11-21 00:00:00-05:00  112.80  112.8859  112.720  112.8131  3971410   \n",
       "\n",
       "                              SPY                                    \n",
       "                             open    high     low   close    volume  \n",
       "time                                                                 \n",
       "2019-11-15 00:00:00-05:00  311.02  311.83  310.26  311.82  42549412  \n",
       "2019-11-18 00:00:00-05:00  311.53  312.28  311.03  312.00  40559312  \n",
       "2019-11-19 00:00:00-05:00  312.68  312.69  311.22  311.91  56892505  \n",
       "2019-11-20 00:00:00-05:00  311.28  311.85  309.06  310.79  62833225  \n",
       "2019-11-21 00:00:00-05:00  310.89  311.01  309.39  310.29  42497606  "
      ]
     },
     "execution_count": 7,
     "metadata": {},
     "output_type": "execute_result"
    }
   ],
   "source": [
    "list_of_tickers = [\"SPY\", \"AGG\"]\n",
    "# YOUR CODE HERE\n",
    "tickers = [\"SPY\", \"AGG\"]\n",
    "timeframe = '1D'\n",
    "end_date = datetime.now()\n",
    "start_date = end_date + timedelta(-365)\n",
    "# YOUR CODE HERE\n",
    "df = api.get_barset(\n",
    "    tickers,\n",
    "    timeframe,\n",
    "    limit=None,\n",
    "    start=start_date,\n",
    "    end=end_date,\n",
    "    after=None,\n",
    "    until=None,\n",
    ").df\n",
    "df.head()"
   ]
  },
  {
   "cell_type": "markdown",
   "metadata": {},
   "source": [
    "# Monte Carlo Simulation\n",
    "\n",
    "In this step, you will run Monte Carlo Simulations for your portfolio to model portfolio performance at different retirement ages. \n",
    "\n",
    "Complete the following steps:\n",
    "1. Calculate the daily returns for the SPY and AGG closing prices.\n",
    "2. Calculate volatility for both the SPY and AGG closing prices.\n",
    "3. Find the last day's closing price for both stocks and save those as variables.\n",
    "4. Run a Monte Carlo Simulation of at least 500 iterations and generate at least 30 years of closing prices\n",
    "\n",
    "### HINTS:\n",
    "There are 252 trading days per year, so the number of records to generate for each Monte Carlo run will be 252 days * 30 years"
   ]
  },
  {
   "cell_type": "code",
   "execution_count": 56,
   "metadata": {},
   "outputs": [],
   "source": [
    "# Calculate the daily roi for the stocks\n",
    "# YOUR CODE HERE\n",
    "ROI = df.pct_change().dropna()\n",
    "dayAGG = ROI.mean()['AGG']['close']\n",
    "daySPY = ROI.mean()['SPY']['close']"
   ]
  },
  {
   "cell_type": "code",
   "execution_count": 57,
   "metadata": {},
   "outputs": [],
   "source": [
    "# Calculate volatility\n",
    "# YOUR CODE HERE\n",
    "STD_AGG = ROI.std()['AGG']['close']\n",
    "STD_SPY = ROI.std()['SPY']['close']"
   ]
  },
  {
   "cell_type": "code",
   "execution_count": 58,
   "metadata": {},
   "outputs": [],
   "source": [
    "# Save the last day's closing price\n",
    "# YOUR CODE HERE\n",
    "updatedAGG = df['AGG']['close'][-1]\n",
    "updatedSPY = df['SPY']['close'][-1]"
   ]
  },
  {
   "cell_type": "code",
   "execution_count": 59,
   "metadata": {},
   "outputs": [],
   "source": [
    "# Setup the Monte Carlo Parameters\n",
    "number_simulations = 500\n",
    "number_records = 252 * 30\n",
    "monte_carlo = pd.DataFrame()\n",
    "portolio_returns = pd.DataFrame()\n",
    "weight = [0.6,0.4]"
   ]
  },
  {
   "cell_type": "code",
   "execution_count": 62,
   "metadata": {},
   "outputs": [
    {
     "data": {
      "text/html": [
       "<div>\n",
       "<style scoped>\n",
       "    .dataframe tbody tr th:only-of-type {\n",
       "        vertical-align: middle;\n",
       "    }\n",
       "\n",
       "    .dataframe tbody tr th {\n",
       "        vertical-align: top;\n",
       "    }\n",
       "\n",
       "    .dataframe thead th {\n",
       "        text-align: right;\n",
       "    }\n",
       "</style>\n",
       "<table border=\"1\" class=\"dataframe\">\n",
       "  <thead>\n",
       "    <tr style=\"text-align: right;\">\n",
       "      <th></th>\n",
       "      <th>0</th>\n",
       "      <th>1</th>\n",
       "      <th>2</th>\n",
       "      <th>3</th>\n",
       "      <th>4</th>\n",
       "      <th>5</th>\n",
       "      <th>6</th>\n",
       "      <th>7</th>\n",
       "      <th>8</th>\n",
       "      <th>9</th>\n",
       "      <th>...</th>\n",
       "      <th>490</th>\n",
       "      <th>491</th>\n",
       "      <th>492</th>\n",
       "      <th>493</th>\n",
       "      <th>494</th>\n",
       "      <th>495</th>\n",
       "      <th>496</th>\n",
       "      <th>497</th>\n",
       "      <th>498</th>\n",
       "      <th>499</th>\n",
       "    </tr>\n",
       "  </thead>\n",
       "  <tbody>\n",
       "    <tr>\n",
       "      <td>0</td>\n",
       "      <td>1.000000</td>\n",
       "      <td>1.000000</td>\n",
       "      <td>1.000000</td>\n",
       "      <td>1.000000</td>\n",
       "      <td>1.000000</td>\n",
       "      <td>1.000000</td>\n",
       "      <td>1.000000</td>\n",
       "      <td>1.000000</td>\n",
       "      <td>1.000000</td>\n",
       "      <td>1.000000</td>\n",
       "      <td>...</td>\n",
       "      <td>1.000000</td>\n",
       "      <td>1.000000</td>\n",
       "      <td>1.000000</td>\n",
       "      <td>1.000000</td>\n",
       "      <td>1.000000</td>\n",
       "      <td>1.000000</td>\n",
       "      <td>1.000000</td>\n",
       "      <td>1.000000</td>\n",
       "      <td>1.000000</td>\n",
       "      <td>1.000000</td>\n",
       "    </tr>\n",
       "    <tr>\n",
       "      <td>1</td>\n",
       "      <td>0.980834</td>\n",
       "      <td>0.993012</td>\n",
       "      <td>0.982866</td>\n",
       "      <td>0.991870</td>\n",
       "      <td>0.995711</td>\n",
       "      <td>0.995380</td>\n",
       "      <td>0.964062</td>\n",
       "      <td>0.981209</td>\n",
       "      <td>1.000686</td>\n",
       "      <td>1.008546</td>\n",
       "      <td>...</td>\n",
       "      <td>0.991024</td>\n",
       "      <td>0.986288</td>\n",
       "      <td>1.004578</td>\n",
       "      <td>1.015756</td>\n",
       "      <td>1.007724</td>\n",
       "      <td>0.985544</td>\n",
       "      <td>0.989636</td>\n",
       "      <td>0.987581</td>\n",
       "      <td>1.009818</td>\n",
       "      <td>0.990792</td>\n",
       "    </tr>\n",
       "    <tr>\n",
       "      <td>2</td>\n",
       "      <td>0.977342</td>\n",
       "      <td>1.000907</td>\n",
       "      <td>0.977348</td>\n",
       "      <td>0.991640</td>\n",
       "      <td>1.012165</td>\n",
       "      <td>1.008015</td>\n",
       "      <td>0.972039</td>\n",
       "      <td>0.945982</td>\n",
       "      <td>0.986639</td>\n",
       "      <td>1.002906</td>\n",
       "      <td>...</td>\n",
       "      <td>0.997366</td>\n",
       "      <td>0.985982</td>\n",
       "      <td>0.993248</td>\n",
       "      <td>1.011297</td>\n",
       "      <td>0.997409</td>\n",
       "      <td>0.972690</td>\n",
       "      <td>0.998795</td>\n",
       "      <td>0.965583</td>\n",
       "      <td>1.012972</td>\n",
       "      <td>1.002221</td>\n",
       "    </tr>\n",
       "    <tr>\n",
       "      <td>3</td>\n",
       "      <td>0.993019</td>\n",
       "      <td>0.992927</td>\n",
       "      <td>0.981907</td>\n",
       "      <td>0.981771</td>\n",
       "      <td>0.999407</td>\n",
       "      <td>0.994131</td>\n",
       "      <td>0.981039</td>\n",
       "      <td>0.964750</td>\n",
       "      <td>0.980985</td>\n",
       "      <td>0.982047</td>\n",
       "      <td>...</td>\n",
       "      <td>1.007474</td>\n",
       "      <td>0.999520</td>\n",
       "      <td>0.982346</td>\n",
       "      <td>0.999531</td>\n",
       "      <td>0.990033</td>\n",
       "      <td>0.979383</td>\n",
       "      <td>0.998626</td>\n",
       "      <td>0.967142</td>\n",
       "      <td>1.010260</td>\n",
       "      <td>1.006040</td>\n",
       "    </tr>\n",
       "    <tr>\n",
       "      <td>4</td>\n",
       "      <td>1.003155</td>\n",
       "      <td>1.009087</td>\n",
       "      <td>0.974901</td>\n",
       "      <td>0.984387</td>\n",
       "      <td>1.006628</td>\n",
       "      <td>1.018064</td>\n",
       "      <td>0.973257</td>\n",
       "      <td>0.963941</td>\n",
       "      <td>0.977470</td>\n",
       "      <td>0.988865</td>\n",
       "      <td>...</td>\n",
       "      <td>1.010203</td>\n",
       "      <td>1.016964</td>\n",
       "      <td>0.961619</td>\n",
       "      <td>1.017204</td>\n",
       "      <td>1.007941</td>\n",
       "      <td>0.986507</td>\n",
       "      <td>1.006834</td>\n",
       "      <td>0.933482</td>\n",
       "      <td>1.027997</td>\n",
       "      <td>1.016752</td>\n",
       "    </tr>\n",
       "  </tbody>\n",
       "</table>\n",
       "<p>5 rows × 500 columns</p>\n",
       "</div>"
      ],
      "text/plain": [
       "        0         1         2         3         4         5         6    \\\n",
       "0  1.000000  1.000000  1.000000  1.000000  1.000000  1.000000  1.000000   \n",
       "1  0.980834  0.993012  0.982866  0.991870  0.995711  0.995380  0.964062   \n",
       "2  0.977342  1.000907  0.977348  0.991640  1.012165  1.008015  0.972039   \n",
       "3  0.993019  0.992927  0.981907  0.981771  0.999407  0.994131  0.981039   \n",
       "4  1.003155  1.009087  0.974901  0.984387  1.006628  1.018064  0.973257   \n",
       "\n",
       "        7         8         9    ...       490       491       492       493  \\\n",
       "0  1.000000  1.000000  1.000000  ...  1.000000  1.000000  1.000000  1.000000   \n",
       "1  0.981209  1.000686  1.008546  ...  0.991024  0.986288  1.004578  1.015756   \n",
       "2  0.945982  0.986639  1.002906  ...  0.997366  0.985982  0.993248  1.011297   \n",
       "3  0.964750  0.980985  0.982047  ...  1.007474  0.999520  0.982346  0.999531   \n",
       "4  0.963941  0.977470  0.988865  ...  1.010203  1.016964  0.961619  1.017204   \n",
       "\n",
       "        494       495       496       497       498       499  \n",
       "0  1.000000  1.000000  1.000000  1.000000  1.000000  1.000000  \n",
       "1  1.007724  0.985544  0.989636  0.987581  1.009818  0.990792  \n",
       "2  0.997409  0.972690  0.998795  0.965583  1.012972  1.002221  \n",
       "3  0.990033  0.979383  0.998626  0.967142  1.010260  1.006040  \n",
       "4  1.007941  0.986507  1.006834  0.933482  1.027997  1.016752  \n",
       "\n",
       "[5 rows x 500 columns]"
      ]
     },
     "execution_count": 62,
     "metadata": {},
     "output_type": "execute_result"
    }
   ],
   "source": [
    "# Run the Monte Carlo Simulation\n",
    "for x in range (number_simulations):\n",
    "    \n",
    "    # YOUR CODE HERE\n",
    "    updatedagg = [updatedAGG]\n",
    "    updatedspy = [updatedSPY]\n",
    "    \n",
    "    for i in range(number_records):\n",
    "        AGG_simulated_price = updatedagg[-1] * (1 + np.random.normal(dayAGG, STD_AGG))\n",
    "        updatedagg.append(AGG_simulated_price)\n",
    "        SPY_simulated_price = updatedspy[-1] * (1 + np.random.normal(daySPY, STD_SPY))\n",
    "        updatedspy.append(SPY_simulated_price)\n",
    "        \n",
    "        \n",
    "    monte_carlo['AGG prices'] = pd.Series(updatedagg)\n",
    "    monte_carlo['SPY prices'] = pd.Series(updatedspy)\n",
    "    \n",
    "    monte_carlo_daily_roi = monte_carlo.pct_change()\n",
    "    weight = [0.60, 0.40]\n",
    "    \n",
    "    portolio_monte_carlo_daily_roi = monte_carlo_daily_roi.dot(weight)\n",
    "    \n",
    "    portolio_returns[x] = (1 + portolio_monte_carlo_daily_roi.fillna(0)).cumprod()\n",
    "portolio_returns.head()"
   ]
  },
  {
   "cell_type": "code",
   "execution_count": 76,
   "metadata": {},
   "outputs": [
    {
     "data": {
      "text/plain": [
       "<matplotlib.axes._subplots.AxesSubplot at 0x1231a9dd0>"
      ]
     },
     "execution_count": 76,
     "metadata": {},
     "output_type": "execute_result"
    },
    {
     "data": {
      "image/png": "[encoded data removed]",
      "text/plain": [
       "<Figure size 432x288 with 1 Axes>"
      ]
     },
     "metadata": {
      "needs_background": "light"
     },
     "output_type": "display_data"
    }
   ],
   "source": [
    "# Visualize the Simulation\n",
    "# YOUR CODE HERE\n",
    "portolio_returns.plot(legend=None, title=\"Monte Carlo\")"
   ]
  },
  {
   "cell_type": "code",
   "execution_count": 77,
   "metadata": {},
   "outputs": [
    {
     "data": {
      "text/plain": [
       "0    0.377794\n",
       "1    0.923267\n",
       "2    0.118672\n",
       "3    0.222187\n",
       "4    0.656399\n",
       "Name: 7560, dtype: float64"
      ]
     },
     "execution_count": 77,
     "metadata": {},
     "output_type": "execute_result"
    }
   ],
   "source": [
    "# Select the last row for the cumulative returns (cumulative returns at 30 years)\n",
    "# YOUR CODE HERE\n",
    "P_returns = portolio_returns.iloc[-1, :]\n",
    "P_returns.head()"
   ]
  },
  {
   "cell_type": "code",
   "execution_count": 78,
   "metadata": {},
   "outputs": [
    {
     "data": {
      "text/plain": [
       "0    1.601232\n",
       "1    1.096212\n",
       "2    0.261664\n",
       "3    0.198302\n",
       "4    0.797550\n",
       "Name: 5040, dtype: float64"
      ]
     },
     "execution_count": 78,
     "metadata": {},
     "output_type": "execute_result"
    }
   ],
   "source": [
    "# Select the last row for the cumulative returns (cumulative returns at 20 years)\n",
    "# YOUR CODE HERE\n",
    "twenty_monte_cum_returns = portolio_returns.iloc[5040, :]\n",
    "twenty_monte_cum_returns.head()"
   ]
  },
  {
   "cell_type": "code",
   "execution_count": 81,
   "metadata": {},
   "outputs": [
    {
     "data": {
      "text/plain": [
       "0.05    0.060472\n",
       "0.95    3.266758\n",
       "Name: 7560, dtype: float64"
      ]
     },
     "execution_count": 81,
     "metadata": {},
     "output_type": "execute_result"
    }
   ],
   "source": [
    "# Display the 90% confidence interval for the ending returns\n",
    "# YOUR CODE HERE\n",
    "confidence_interval = P_returns.quantile(q=[0.05, 0.95])\n",
    "confidence_interval"
   ]
  },
  {
   "cell_type": "code",
   "execution_count": 82,
   "metadata": {},
   "outputs": [
    {
     "data": {
      "text/plain": [
       "<matplotlib.lines.Line2D at 0x1221083d0>"
      ]
     },
     "execution_count": 82,
     "metadata": {},
     "output_type": "execute_result"
    },
    {
     "data": {
      "image/png": "[encoded data removed]",
      "text/plain": [
       "<Figure size 432x288 with 1 Axes>"
      ]
     },
     "metadata": {
      "needs_background": "light"
     },
     "output_type": "display_data"
    }
   ],
   "source": [
    "# Visualize the distribution of the ending returns\n",
    "# YOUR CODE HERE\n",
    "P_returns.plot(kind='hist', bins=10, density=True)\n",
    "plt.axvline(confidence_interval.iloc[0], color='r')\n",
    "plt.axvline(confidence_interval.iloc[1], color='r')"
   ]
  },
  {
   "cell_type": "markdown",
   "metadata": {},
   "source": [
    "---"
   ]
  },
  {
   "cell_type": "markdown",
   "metadata": {},
   "source": [
    "# Retirement Analysis\n",
    "\n",
    "In this section, you will use the monte carlo model to answer the following retirement planning questions:\n",
    "\n",
    "1. What are the expected cumulative returns at 30 years for the 10th, 50th, and 90th percentiles?\n",
    "2. Given an initial investment of `$20,000`, what is the expected portfolio return in dollars at the 10th, 50th, and 90th percentiles?\n",
    "3. Given the current projected annual income from the Plaid analysis, will a 4% withdraw rate from the retirement portfolio meet or exceed that value at the 10th percentile?\n",
    "4. How would a 50% increase in the initial investment amount affect the 4% retirement withdrawal?"
   ]
  },
  {
   "cell_type": "markdown",
   "metadata": {},
   "source": [
    "### What are the expected cumulative returns at 30 years for the 10th, 50th, and 90th percentiles?"
   ]
  },
  {
   "cell_type": "code",
   "execution_count": 86,
   "metadata": {},
   "outputs": [
    {
     "name": "stdout",
     "output_type": "stream",
     "text": [
      "Forecasted return at 30 years for the 10th % is 0.11.\n",
      "Forecasted return at 30 years for the 10th % is 0.5.\n",
      "Forecasted return at 30 years for the 10th % is 2.09.\n"
     ]
    }
   ],
   "source": [
    "# YOUR CODE HERE\n",
    "print(f\"Forecasted return at 30 years for the 10th % is {round(np.percentile(P_returns,10),2)}.\")\n",
    "print(f\"Forecasted return at 30 years for the 10th % is {round(np.percentile(P_returns,50),2)}.\")\n",
    "print(f\"Forecasted return at 30 years for the 10th % is {round(np.percentile(P_returns,90),2)}.\")"
   ]
  },
  {
   "cell_type": "markdown",
   "metadata": {},
   "source": [
    "### Given an initial investment of `$20,000`, what is the expected portfolio return in dollars at the 10th, 50th, and 90th percentiles?"
   ]
  },
  {
   "cell_type": "code",
   "execution_count": 88,
   "metadata": {},
   "outputs": [
    {
     "name": "stdout",
     "output_type": "stream",
     "text": [
      "Forecasted return at 30 years for the 10th % is $2131.11.\n",
      "Forecasted return at 30 years for the 10th % is $10002.11.\n",
      "Forecasted return at 30 years for the 10th % is $41798.82.\n"
     ]
    }
   ],
   "source": [
    "# YOUR CODE HERE\n",
    "initial_investment = 20000\n",
    "cumulative_pnl = initial_investment * P_returns\n",
    "print(f\"Forecasted return at 30 years for the 10th % is ${round(np.percentile(cumulative_pnl,10),2)}.\")\n",
    "print(f\"Forecasted return at 30 years for the 10th % is ${round(np.percentile(cumulative_pnl,50),2)}.\")\n",
    "print(f\"Forecasted return at 30 years for the 10th % is ${round(np.percentile(cumulative_pnl,90),2)}.\")"
   ]
  },
  {
   "cell_type": "markdown",
   "metadata": {},
   "source": [
    "### Given the current projected annual income from the Plaid analysis, will a 4% withdraw rate from the retirement portfolio meet or exceed that value at the 10th percentile?\n",
    "\n",
    "Note: This is effectively saying that 90% of the expected returns will be greater than the return at the 10th percentile, so this can help measure the uncertainty about having enough funds at retirement"
   ]
  },
  {
   "cell_type": "code",
   "execution_count": 89,
   "metadata": {},
   "outputs": [
    {
     "name": "stdout",
     "output_type": "stream",
     "text": [
      "4% withdraw is not sufficient to cover the projected annual income\n"
     ]
    }
   ],
   "source": [
    "# YOUR CODE HERE\n",
    "withdraw = 0.04*(round(np.percentile(cumulative_pnl,10),2))\n",
    "projected_yearly_income=7389\n",
    "if withdraw >= projected_yearly_income:\n",
    "    print(\"4% withdraw is sufficient to cover the projected annual income\")\n",
    "else:\n",
    "    print(\"4% withdraw is not sufficient to cover the projected annual income\")"
   ]
  },
  {
   "cell_type": "markdown",
   "metadata": {},
   "source": [
    "### How would a 50% increase in the initial investment amount affect the 4% retirement withdrawal?"
   ]
  },
  {
   "cell_type": "code",
   "execution_count": 91,
   "metadata": {},
   "outputs": [
    {
     "name": "stdout",
     "output_type": "stream",
     "text": [
      "4% withdraw is not sufficient to cover the projected annual income\n"
     ]
    }
   ],
   "source": [
    "# YOUR CODE HERE\n",
    "initial_investment_2 = 1.5*initial_investment\n",
    "cumulative_pnl_2 = initial_investment_2 * P_returns\n",
    "withdraw_2 = 0.04*(round(np.percentile(cumulative_pnl_2,10),2))\n",
    "projected_yearly_income=7389\n",
    "\n",
    "\n",
    "\n",
    "if withdraw_2 >= projected_yearly_income:\n",
    "    print(\"4% withdraw is sufficient to cover the projected annual income\")\n",
    "    \n",
    "else:\n",
    "    print(\"4% withdraw is not sufficient to cover the projected annual income\")"
   ]
  },
  {
   "cell_type": "markdown",
   "metadata": {},
   "source": [
    "### Optional Challenge\n",
    "\n",
    "In this section, you will calculate and plot the cumulative returns for the median and 90% confidence intervals. This plot shows the expected cumulative returns for any given day between the first day and the last day of investment. "
   ]
  },
  {
   "cell_type": "code",
   "execution_count": null,
   "metadata": {},
   "outputs": [],
   "source": [
    "# YOUR CODE HERE"
   ]
  }
 ],
 "metadata": {
  "kernel_info": {
   "name": "dev"
  },
  "kernelspec": {
   "display_name": "Python 3",
   "language": "python",
   "name": "python3"
  },
  "language_info": {
   "codemirror_mode": {
    "name": "ipython",
    "version": 3
   },
   "file_extension": ".py",
   "mimetype": "text/x-python",
   "name": "python",
   "nbconvert_exporter": "python",
   "pygments_lexer": "ipython3",
   "version": "3.7.4"
  },
  "nteract": {
   "version": "0.12.3"
  }
 },
 "nbformat": 4,
 "nbformat_minor": 4
}
